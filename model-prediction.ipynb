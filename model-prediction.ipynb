{
 "cells": [
  {
   "cell_type": "markdown",
   "metadata": {},
   "source": [
    "# KNN for prediction heart disease"
   ]
  },
  {
   "cell_type": "code",
   "execution_count": 1,
   "metadata": {},
   "outputs": [],
   "source": [
    "from sklearn.model_selection import train_test_split\n",
    "from sklearn.preprocessing import StandardScaler\n",
    "import pandas as pd\n",
    "from sklearn.neighbors import KNeighborsClassifier\n",
    "from sklearn.metrics import confusion_matrix\n",
    "import numpy as np\n",
    "from sklearn.svm import SVC\n",
    "from sklearn.naive_bayes import GaussianNB\n",
    "from sklearn.tree import DecisionTreeClassifier\n",
    "from sklearn.ensemble import RandomForestClassifier\n",
    "from sklearn.ensemble import AdaBoostClassifier\n",
    "from sklearn.ensemble import GradientBoostingClassifier\n",
    "from xgboost import XGBClassifier\n",
    "from sklearn.ensemble import StackingClassifier\n",
    "from sklearn.linear_model import LogisticRegression"
   ]
  },
  {
   "cell_type": "code",
   "execution_count": 2,
   "metadata": {},
   "outputs": [],
   "source": [
    "df = pd.read_csv(\"./cleveland.csv\", header= None)\n",
    "df.columns = ([\"age\", \"sex\", \"cp\", \"restbps\", \"chol\", \"fbs\", \"restecg\", \"thalach\", \"exang\", \"oldpeak\", \"slope\", \"ca\", \"thal\", \"target\"])\n",
    "\n",
    "df[\"target\"] = df.target.map({0: 0, 1: 1, 2: 1, 3: 1, 4: 1})\n",
    "df[\"thal\"] = df.thal.fillna(df.thal.mean())\n",
    "df[\"ca\"] = df.ca.fillna(df.ca.mean())"
   ]
  },
  {
   "cell_type": "code",
   "execution_count": 3,
   "metadata": {},
   "outputs": [],
   "source": [
    "X = df.iloc[: , :-1].values\n",
    "y = df.iloc[: , -1].values\n",
    "X_train, X_test, y_train, y_test = train_test_split(X, y, test_size= 0.2, random_state= 42)\n",
    "\n",
    "scaler = StandardScaler()\n",
    "X_train_scaled = scaler.fit_transform(X_train)\n",
    "X_test_scaled = scaler.transform(X_test)"
   ]
  },
  {
   "cell_type": "markdown",
   "metadata": {},
   "source": [
    "# Using KNN"
   ]
  },
  {
   "cell_type": "code",
   "execution_count": 4,
   "metadata": {},
   "outputs": [],
   "source": [
    "knn = KNeighborsClassifier(n_neighbors= 5, weights= \"uniform\", algorithm= \"auto\", leaf_size= 30, p= 2, metric= \"minkowski\")\n",
    "knn.fit(X_train, y_train)\n",
    "y_train_pred_knn = knn.predict(X_train)\n",
    "y_test_pred_knn = knn.predict(X_test)\n",
    "\n",
    "cm_train_knn = confusion_matrix(y_train, y_train_pred_knn)\n",
    "cm_test_knn = confusion_matrix(y_test, y_test_pred_knn)"
   ]
  },
  {
   "cell_type": "code",
   "execution_count": 5,
   "metadata": {},
   "outputs": [
    {
     "name": "stdout",
     "output_type": "stream",
     "text": [
      "\n",
      "Accuracy for training set for KNeighborsClassifier = 0.76\n",
      "Accuracy for test set for KNeighborsClassifier = 0.69\n"
     ]
    }
   ],
   "source": [
    "print()\n",
    "accuracy_for_train_knn = np.round((cm_train_knn[0][0] + cm_train_knn[1][1]) / len(y_train), 2)\n",
    "accuracy_for_test_knn = np.round((cm_test_knn[0][0] + cm_test_knn[1][1]) / len(y_test), 2)\n",
    "print('Accuracy for training set for KNeighborsClassifier = {}'.format(accuracy_for_train_knn))\n",
    "print('Accuracy for test set for KNeighborsClassifier = {}'.format(accuracy_for_test_knn))"
   ]
  },
  {
   "cell_type": "markdown",
   "metadata": {},
   "source": [
    "# Using SVM"
   ]
  },
  {
   "cell_type": "code",
   "execution_count": 6,
   "metadata": {},
   "outputs": [],
   "source": [
    "svm = SVC(kernel= \"rbf\", random_state= 42)\n",
    "svm.fit(X_train, y_train)\n",
    "\n",
    "y_train_pred_svm = svm.predict(X_train)\n",
    "y_test_pred_svm = svm.predict(X_test)\n",
    "\n",
    "cm_train_svm = confusion_matrix(y_train, y_train_pred_svm)\n",
    "cm_test_svm = confusion_matrix(y_test, y_test_pred_svm)"
   ]
  },
  {
   "cell_type": "code",
   "execution_count": 7,
   "metadata": {},
   "outputs": [
    {
     "name": "stdout",
     "output_type": "stream",
     "text": [
      "\n",
      "Accuracy for training set for SVM = 0.66\n",
      "Accuracy for test set for SVM = 0.67\n"
     ]
    }
   ],
   "source": [
    "print()\n",
    "accuracy_for_train_svm = np.round((cm_train_svm[0][0] + cm_train_svm[1][1]) / len(y_train), 2)\n",
    "accuracy_for_test_svm = np.round((cm_test_svm[0][0] + cm_test_svm[1][1]) / len(y_test), 2)\n",
    "print('Accuracy for training set for SVM = {}'.format(accuracy_for_train_svm))\n",
    "print('Accuracy for test set for SVM = {}'.format(accuracy_for_test_svm))"
   ]
  },
  {
   "cell_type": "markdown",
   "metadata": {},
   "source": [
    "# Using naive bayesian"
   ]
  },
  {
   "cell_type": "code",
   "execution_count": 8,
   "metadata": {},
   "outputs": [],
   "source": [
    "gnb = GaussianNB()\n",
    "gnb.fit(X_train, y_train)\n",
    "\n",
    "y_train_pred_gnb = gnb.predict(X_train)\n",
    "y_test_pred_gnb = gnb.predict(X_test)\n",
    "\n",
    "cm_train_gnb = confusion_matrix(y_train, y_train_pred_gnb)\n",
    "cm_test_gnb = confusion_matrix(y_test, y_test_pred_gnb)"
   ]
  },
  {
   "cell_type": "code",
   "execution_count": 9,
   "metadata": {},
   "outputs": [
    {
     "name": "stdout",
     "output_type": "stream",
     "text": [
      "\n",
      "Accuracy for training set for naive bayes = 0.85\n",
      "Accuracy for test set for naive bayes = 0.84\n"
     ]
    }
   ],
   "source": [
    "print()\n",
    "accuracy_for_train_gnb = np.round((cm_train_gnb[0][0] + cm_train_gnb[1][1]) / len(y_train), 2)\n",
    "accuracy_for_test_gnb = np.round((cm_test_gnb[0][0] + cm_test_gnb[1][1]) / len(y_test), 2)\n",
    "print('Accuracy for training set for naive bayes = {}'.format(accuracy_for_train_gnb))\n",
    "print('Accuracy for test set for naive bayes = {}'.format(accuracy_for_test_gnb))"
   ]
  },
  {
   "cell_type": "markdown",
   "metadata": {},
   "source": [
    "# Using decision tree"
   ]
  },
  {
   "cell_type": "code",
   "execution_count": 10,
   "metadata": {},
   "outputs": [],
   "source": [
    "dt = DecisionTreeClassifier(criterion= \"gini\", max_depth= 10, min_samples_split= 2, random_state= 42)\n",
    "dt.fit(X_train, y_train)\n",
    "\n",
    "y_train_pred_dt = dt.predict(X_train)\n",
    "y_test_pred_dt = dt.predict(X_test)\n",
    "\n",
    "cm_train_dt = confusion_matrix(y_train, y_train_pred_dt)\n",
    "cm_test_dt = confusion_matrix(y_test, y_test_pred_dt)"
   ]
  },
  {
   "cell_type": "code",
   "execution_count": 11,
   "metadata": {},
   "outputs": [
    {
     "name": "stdout",
     "output_type": "stream",
     "text": [
      "\n",
      "Accuracy for training set for decision tree = 1.0\n",
      "Accuracy for test set for decision tree = 0.75\n"
     ]
    }
   ],
   "source": [
    "print()\n",
    "accuracy_for_train_dt = np.round((cm_train_dt[0][0] + cm_train_dt[1][1]) / len(y_train), 2)\n",
    "accuracy_for_test_dt = np.round((cm_test_dt[0][0] + cm_test_dt[1][1]) / len(y_test), 2)\n",
    "print('Accuracy for training set for decision tree = {}'.format(accuracy_for_train_dt))\n",
    "print('Accuracy for test set for decision tree = {}'.format(accuracy_for_test_dt))"
   ]
  },
  {
   "cell_type": "markdown",
   "metadata": {},
   "source": [
    "# Using random forest"
   ]
  },
  {
   "cell_type": "code",
   "execution_count": 12,
   "metadata": {},
   "outputs": [],
   "source": [
    "rfc = RandomForestClassifier(criterion= \"gini\", max_depth= 10, min_samples_split= 2, n_estimators= 10, random_state= 42)\n",
    "rfc.fit(X_train, y_train)\n",
    "\n",
    "y_train_pred_rfc = rfc.predict(X_train)\n",
    "y_test_pred_rfc = rfc.predict(X_test)\n",
    "\n",
    "cm_train_rfc = confusion_matrix(y_train, y_train_pred_rfc)\n",
    "cm_test_rfc = confusion_matrix(y_test, y_test_pred_rfc)"
   ]
  },
  {
   "cell_type": "code",
   "execution_count": 13,
   "metadata": {},
   "outputs": [
    {
     "name": "stdout",
     "output_type": "stream",
     "text": [
      "\n",
      "Accuracy for training set for random forest = 0.98\n",
      "Accuracy for test set for random forest = 0.8\n"
     ]
    }
   ],
   "source": [
    "print()\n",
    "accuracy_for_train_rfc = np.round((cm_train_rfc[0][0] + cm_train_rfc[1][1]) / len(y_train), 2)\n",
    "accuracy_for_test_rfc = np.round((cm_test_rfc[0][0] + cm_test_rfc[1][1]) / len(y_test), 2)\n",
    "print('Accuracy for training set for random forest = {}'.format(accuracy_for_train_rfc))\n",
    "print('Accuracy for test set for random forest = {}'.format(accuracy_for_test_rfc))"
   ]
  },
  {
   "cell_type": "markdown",
   "metadata": {},
   "source": [
    "# Using adaboost"
   ]
  },
  {
   "cell_type": "code",
   "execution_count": 14,
   "metadata": {},
   "outputs": [
    {
     "name": "stderr",
     "output_type": "stream",
     "text": [
      "/home/heigatvu/anaconda3/envs/aio2024-hw/lib/python3.11/site-packages/sklearn/ensemble/_weight_boosting.py:527: FutureWarning: The SAMME.R algorithm (the default) is deprecated and will be removed in 1.6. Use the SAMME algorithm to circumvent this warning.\n",
      "  warnings.warn(\n"
     ]
    }
   ],
   "source": [
    "ada = AdaBoostClassifier(n_estimators= 50, learning_rate= 1.0)\n",
    "ada.fit(X_train, y_train)\n",
    "\n",
    "y_train_pred_ada = ada.predict(X_train)\n",
    "y_test_pred_ada = ada.predict(X_test)\n",
    "\n",
    "cm_train_ada = confusion_matrix(y_train, y_train_pred_ada)\n",
    "cm_test_ada = confusion_matrix(y_test, y_test_pred_ada)"
   ]
  },
  {
   "cell_type": "code",
   "execution_count": 15,
   "metadata": {},
   "outputs": [
    {
     "name": "stdout",
     "output_type": "stream",
     "text": [
      "\n",
      "Accuracy for training set for ada boost = 0.91\n",
      "Accuracy for test set for ada boost = 0.84\n"
     ]
    }
   ],
   "source": [
    "print()\n",
    "accuracy_for_train_ada = np.round((cm_train_ada[0][0] + cm_train_ada[1][1]) / len(y_train), 2)\n",
    "accuracy_for_test_ada = np.round((cm_test_ada[0][0] + cm_test_ada[1][1]) / len(y_test), 2)\n",
    "print('Accuracy for training set for ada boost = {}'.format(accuracy_for_train_ada))\n",
    "print('Accuracy for test set for ada boost = {}'.format(accuracy_for_test_ada))"
   ]
  },
  {
   "cell_type": "markdown",
   "metadata": {},
   "source": [
    "# Using gradient boost"
   ]
  },
  {
   "cell_type": "code",
   "execution_count": 16,
   "metadata": {},
   "outputs": [],
   "source": [
    "gb = GradientBoostingClassifier(learning_rate= 0.1, n_estimators= 100, subsample= 1.0, min_samples_split= 2, max_depth= 3, random_state= 42)\n",
    "gb.fit(X_train, y_train)\n",
    "\n",
    "y_train_pred_gb = gb.predict(X_train)\n",
    "y_test_pred_gb = gb.predict(X_test)\n",
    "\n",
    "cm_train_gb = confusion_matrix(y_train, y_train_pred_gb)\n",
    "cm_test_gb = confusion_matrix(y_test, y_test_pred_gb)"
   ]
  },
  {
   "cell_type": "code",
   "execution_count": 17,
   "metadata": {},
   "outputs": [
    {
     "name": "stdout",
     "output_type": "stream",
     "text": [
      "\n",
      "Accuracy for training set for gradient boost = 1.0\n",
      "Accuracy for test set for gradient boost = 0.85\n"
     ]
    }
   ],
   "source": [
    "print()\n",
    "accuracy_for_train_gb = np.round((cm_train_gb[0][0] + cm_train_gb[1][1]) / len(y_train), 2)\n",
    "accuracy_for_test_gb = np.round((cm_test_gb[0][0] + cm_test_gb[1][1]) / len(y_test), 2)\n",
    "print('Accuracy for training set for gradient boost = {}'.format(accuracy_for_train_gb))\n",
    "print('Accuracy for test set for gradient boost = {}'.format(accuracy_for_test_gb))"
   ]
  },
  {
   "cell_type": "markdown",
   "metadata": {},
   "source": [
    "# Using XG boost"
   ]
  },
  {
   "cell_type": "code",
   "execution_count": 18,
   "metadata": {},
   "outputs": [],
   "source": [
    "xgb = XGBClassifier(objective= \"binary:logistic\", random_state= 42, n_estimators= 100)\n",
    "xgb.fit(X_train, y_train)\n",
    "\n",
    "y_train_pred_xgb = xgb.predict(X_train)\n",
    "y_test_pred_xgb = xgb.predict(X_test)\n",
    "\n",
    "cm_train_xgb = confusion_matrix(y_train_pred_xgb, y_train)\n",
    "cm_test_xgb = confusion_matrix(y_test_pred_xgb, y_test)"
   ]
  },
  {
   "cell_type": "code",
   "execution_count": 19,
   "metadata": {},
   "outputs": [
    {
     "name": "stdout",
     "output_type": "stream",
     "text": [
      "\n",
      "Accuracy for training set for XG boost = 1.0\n",
      "Accuracy for test set for XG boost = 0.87\n"
     ]
    }
   ],
   "source": [
    "print()\n",
    "accuracy_for_train_xgb = np.round((cm_train_xgb[0][0] + cm_train_xgb[1][1]) / len(y_train), 2)\n",
    "accuracy_for_test_xgb = np.round((cm_test_xgb[0][0] + cm_test_xgb[1][1]) / len(y_test), 2)\n",
    "print('Accuracy for training set for XG boost = {}'.format(accuracy_for_train_xgb))\n",
    "print('Accuracy for test set for XG boost = {}'.format(accuracy_for_test_xgb))"
   ]
  },
  {
   "cell_type": "markdown",
   "metadata": {},
   "source": [
    "# Using stacking"
   ]
  },
  {
   "cell_type": "code",
   "execution_count": 22,
   "metadata": {},
   "outputs": [
    {
     "name": "stderr",
     "output_type": "stream",
     "text": [
      "/home/heigatvu/anaconda3/envs/aio2024-hw/lib/python3.11/site-packages/sklearn/ensemble/_weight_boosting.py:527: FutureWarning: The SAMME.R algorithm (the default) is deprecated and will be removed in 1.6. Use the SAMME algorithm to circumvent this warning.\n",
      "  warnings.warn(\n",
      "/home/heigatvu/anaconda3/envs/aio2024-hw/lib/python3.11/site-packages/sklearn/ensemble/_weight_boosting.py:527: FutureWarning: The SAMME.R algorithm (the default) is deprecated and will be removed in 1.6. Use the SAMME algorithm to circumvent this warning.\n",
      "  warnings.warn(\n",
      "/home/heigatvu/anaconda3/envs/aio2024-hw/lib/python3.11/site-packages/sklearn/ensemble/_weight_boosting.py:527: FutureWarning: The SAMME.R algorithm (the default) is deprecated and will be removed in 1.6. Use the SAMME algorithm to circumvent this warning.\n",
      "  warnings.warn(\n",
      "/home/heigatvu/anaconda3/envs/aio2024-hw/lib/python3.11/site-packages/sklearn/ensemble/_weight_boosting.py:527: FutureWarning: The SAMME.R algorithm (the default) is deprecated and will be removed in 1.6. Use the SAMME algorithm to circumvent this warning.\n",
      "  warnings.warn(\n",
      "/home/heigatvu/anaconda3/envs/aio2024-hw/lib/python3.11/site-packages/sklearn/ensemble/_weight_boosting.py:527: FutureWarning: The SAMME.R algorithm (the default) is deprecated and will be removed in 1.6. Use the SAMME algorithm to circumvent this warning.\n",
      "  warnings.warn(\n",
      "/home/heigatvu/anaconda3/envs/aio2024-hw/lib/python3.11/site-packages/sklearn/ensemble/_weight_boosting.py:527: FutureWarning: The SAMME.R algorithm (the default) is deprecated and will be removed in 1.6. Use the SAMME algorithm to circumvent this warning.\n",
      "  warnings.warn(\n"
     ]
    }
   ],
   "source": [
    "dtc = DecisionTreeClassifier(random_state= 42)\n",
    "rfc = RandomForestClassifier(random_state= 42)\n",
    "knn = KNeighborsClassifier()\n",
    "xgb = XGBClassifier()\n",
    "gc = GradientBoostingClassifier(random_state= 42)\n",
    "svmc = SVC(kernel= \"rbf\", random_state= 42)\n",
    "ada = AdaBoostClassifier(random_state= 42)\n",
    "\n",
    "estimators = [(\"dtc\", dtc), (\"rfc\", rfc), (\"knn\", knn), (\"xgb\", xgb), (\"gc\", gc), (\"svmc\", svmc), (\"ada\", ada)]\n",
    "meta_model = XGBClassifier()\n",
    "stacking_model = StackingClassifier(estimators= estimators, final_estimator= meta_model)\n",
    "\n",
    "stacking_model.fit(X_train, y_train)\n",
    "\n",
    "y_train_pred_stm = stacking_model.predict(X_train)\n",
    "y_test_pred_stm = stacking_model.predict(X_test)\n",
    "\n",
    "cm_train_stm = confusion_matrix(y_train, y_train_pred_stm)\n",
    "cm_test_stm = confusion_matrix(y_test, y_test_pred_stm)"
   ]
  },
  {
   "cell_type": "code",
   "execution_count": 24,
   "metadata": {},
   "outputs": [
    {
     "name": "stdout",
     "output_type": "stream",
     "text": [
      "\n",
      "Accuracy for training set for stacking = 0.98\n",
      "Accuracy for test set for XG stacking = 0.89\n"
     ]
    }
   ],
   "source": [
    "print()\n",
    "accuracy_for_train_stm = np.round((cm_train_stm[0][0] + cm_train_stm[1][1]) / len(y_train), 2)\n",
    "accuracy_for_test_stm = np.round((cm_test_stm[0][0] + cm_test_stm[1][1]) / len(y_test), 2)\n",
    "print('Accuracy for training set for stacking = {}'.format(accuracy_for_train_stm))\n",
    "print('Accuracy for test set for XG stacking = {}'.format(accuracy_for_test_stm))"
   ]
  }
 ],
 "metadata": {
  "kernelspec": {
   "display_name": "aio2024-hw",
   "language": "python",
   "name": "python3"
  },
  "language_info": {
   "codemirror_mode": {
    "name": "ipython",
    "version": 3
   },
   "file_extension": ".py",
   "mimetype": "text/x-python",
   "name": "python",
   "nbconvert_exporter": "python",
   "pygments_lexer": "ipython3",
   "version": "3.11.9"
  }
 },
 "nbformat": 4,
 "nbformat_minor": 2
}
